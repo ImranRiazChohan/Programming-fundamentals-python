{
 "cells": [
  {
   "cell_type": "code",
   "execution_count": 46,
   "metadata": {
    "collapsed": true
   },
   "outputs": [],
   "source": [
    "#task1\n",
    "import sqlite3\n",
    "con= sqlite3.connect('imranriazchohan.db')"
   ]
  },
  {
   "cell_type": "code",
   "execution_count": 47,
   "metadata": {
    "collapsed": true
   },
   "outputs": [],
   "source": [
    "#task2\n",
    "con=sqlite3.connect(\"imranriazchohan.db\")\n",
    "cursorobj=con.cursor()"
   ]
  },
  {
   "cell_type": "code",
   "execution_count": 48,
   "metadata": {
    "scrolled": true
   },
   "outputs": [],
   "source": [
    "#task3\n",
    "con=sqlite3.connect(\"imranriazchohan.db\")\n",
    "def sql_connection():\n",
    "    try:\n",
    "        con=sqlite3.connect(\"imranriazchohan.db\")\n",
    "        return con\n",
    "    except Error:\n",
    "        print(Error)\n",
    "def sql_table(con):\n",
    "    cursorobj=con.cursor()\n",
    "    #cursorobj.execute(\"CREATE TABLE employee(id integer,PRIMARY KEY,name text,salary real,department text,position text,hireDate text)\")\n",
    "    cursorobj.execute(\"CREATE TABLE employees(id integer PRIMARY KEY,name text, salary real, department text, position text, hireDate text)\")\n",
    "    con.commit()\n",
    "con=sql_connection()\n",
    "sql_table(con)\n",
    "        "
   ]
  },
  {
   "cell_type": "code",
   "execution_count": 49,
   "metadata": {},
   "outputs": [],
   "source": [
    "#task4\n",
    "con=sqlite3.connect(\"imranriazchohan.db\")\n",
    "cursorobj=con.cursor()\n",
    "cursorobj.execute(\"INSERT INTO employees VALUES(100,'Imranriazchohan',200000,'CS','junior professor','2022-012-1')\")\n",
    "cursorobj.execute(\"INSERT INTO employees VALUES(101,'hassan',500000,'SE','junior professor','2025-012-1')\")\n",
    "cursorobj.execute(\"INSERT INTO employees VALUES(102,'wasi ur rehman',600000,'CS','data scientist','2021-012-1')\")\n",
    "con.commit()"
   ]
  },
  {
   "cell_type": "code",
   "execution_count": 50,
   "metadata": {},
   "outputs": [],
   "source": [
    "#task5\n",
    "con=sqlite3.connect(\"imranriazchohan.db\")\n",
    "def sql_insert(con,entries):\n",
    "    cursorobj=con.cursor()\n",
    "    cursorobj.execute(\"INSERT INTO employees (id,name,salary,department,position,hireDate) VALUES(?,?,?,?,?,?)\",entries)\n",
    "    con.commit()\n",
    "entries=(4,'usama',200000,'cs','Teacher Assistant','2016-12-1')\n",
    "sql_insert(con,entries)"
   ]
  },
  {
   "cell_type": "code",
   "execution_count": 51,
   "metadata": {},
   "outputs": [],
   "source": [
    "#task6\n",
    "con=sqlite3.connect(\"imranriazchohan.db\")\n",
    "def update(con):\n",
    "    cursorobj=con.cursor()\n",
    "    cursorobj.execute(\"UPDATE employees SET name='Lubaid ahmed' where id=4\")\n",
    "    con.commit()\n",
    "update(con)"
   ]
  },
  {
   "cell_type": "code",
   "execution_count": 52,
   "metadata": {},
   "outputs": [
    {
     "name": "stdout",
     "output_type": "stream",
     "text": [
      "(4, 'Lubaid ahmed')\n",
      "(100, 'Imranriazchohan')\n",
      "(101, 'hassan')\n",
      "(102, 'wasi ur rehman')\n"
     ]
    }
   ],
   "source": [
    "#task7\n",
    "con=sqlite3.connect('imranriazchohan.db')\n",
    "def sql_fetch(con):\n",
    "    cursorobj=con.cursor()\n",
    "    cursorobj.execute('SELECT id,name FROM employees')\n",
    "    row=cursorobj.fetchall()\n",
    "    for r in row:\n",
    "        print(r)\n",
    "sql_fetch(con)        "
   ]
  },
  {
   "cell_type": "code",
   "execution_count": 53,
   "metadata": {},
   "outputs": [
    {
     "name": "stdout",
     "output_type": "stream",
     "text": [
      "(4, 'Lubaid ahmed', 200000.0, 'cs', 'Teacher Assistant', '2016-12-1')\n",
      "(100, 'Imranriazchohan', 200000.0, 'CS', 'junior professor', '2022-012-1')\n",
      "(101, 'hassan', 500000.0, 'SE', 'junior professor', '2025-012-1')\n",
      "(102, 'wasi ur rehman', 600000.0, 'CS', 'data scientist', '2021-012-1')\n"
     ]
    }
   ],
   "source": [
    "#task8\n",
    "con=sqlite3.connect('imranriazchohan.db')\n",
    "def sql_fetch(con):\n",
    "    cursorobj=con.cursor()\n",
    "    cursorobj.execute(\"SELECT * FROM employees\")\n",
    "    row=cursorobj.fetchall()\n",
    "    for r in row:\n",
    "        print(r)\n",
    "sql_fetch(con)        "
   ]
  },
  {
   "cell_type": "code",
   "execution_count": null,
   "metadata": {},
   "outputs": [],
   "source": []
  },
  {
   "cell_type": "code",
   "execution_count": null,
   "metadata": {},
   "outputs": [],
   "source": []
  }
 ],
 "metadata": {
  "anaconda-cloud": {},
  "kernelspec": {
   "display_name": "Python 3",
   "language": "python",
   "name": "python3"
  },
  "language_info": {
   "codemirror_mode": {
    "name": "ipython",
    "version": 3
   },
   "file_extension": ".py",
   "mimetype": "text/x-python",
   "name": "python",
   "nbconvert_exporter": "python",
   "pygments_lexer": "ipython3",
   "version": "3.7.4"
  }
 },
 "nbformat": 4,
 "nbformat_minor": 1
}
