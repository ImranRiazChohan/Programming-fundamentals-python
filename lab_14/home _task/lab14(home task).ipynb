{
 "cells": [
  {
   "cell_type": "code",
   "execution_count": 6,
   "metadata": {},
   "outputs": [
    {
     "data": {
      "text/plain": [
       "<sqlite3.Cursor at 0x7f93c3707180>"
      ]
     },
     "execution_count": 6,
     "metadata": {},
     "output_type": "execute_result"
    }
   ],
   "source": [
    "#task1\n",
    "import sqlite3 \n",
    "con=sqlite3.connect(\"Classmate.db\")\n",
    "cursorobj=con.cursor()\n",
    "cursorobj.execute(\"\"\"CREATE TABLE classmates \n",
    "            (student_id integer PRIMARY KEY,name text,age integer,contact_number text,address text,birthday text,hobbies text)\n",
    "\"\"\")\n"
   ]
  },
  {
   "cell_type": "code",
   "execution_count": 76,
   "metadata": {},
   "outputs": [],
   "source": [
    "def insert_classmate(con,entry):\n",
    "    cursorobj.execute(\"\"\"INSERT INTO classmates\n",
    "    (student_id,name,age,contact_number,address,birthday,hobbies)\n",
    "    VALUES(?,?,?,?,?,?,?)\n",
    "    \"\"\",entry)\n",
    "    con.commit()\n",
    "def update_classmate(con,std_id,cell_no):\n",
    "    cursorobj.execute(\"\"\"UPDATE classmates SET contact_number=?\n",
    "    WHERE student_id=?\n",
    "    \"\"\",(cell_no,std_id,))\n",
    "    con.commit()\n",
    "def delete_classmate(con,std_id):\n",
    "    cursorobj.execute(\"\"\"DELETE FROM classmates WHERE student_id=?\n",
    "    \"\"\",(std_id,))\n",
    "    con.commit()\n",
    "def get_all_classmate(con):\n",
    "    cursorobj.execute(\"SELECT *FROM classmates\")\n",
    "    con.commit()\n",
    "    return cursorobj.fetchall()\n",
    "def get_samemonth(con):\n",
    "    cursorobj.execute(\"SELECT DISTINCT birthday FROM classmates\")\n",
    "    con.commit\n",
    "    row=cursorobj.fetchall()\n",
    "    return row\n",
    "def get_same_hobbies(con):\n",
    "    cursorobj.execute(\"\"\"SELECT DISTINCT hobbies \n",
    "    FROM classmates\"\"\")\n",
    "    con.commit()\n",
    "    row=cursorobj.fetchall()\n",
    "    return row\n",
    "def get_same_age(con,name):\n",
    "    cursorobj.execute(\"\"\"SELECT DISTINCT age FROM classmates \n",
    "    WHERE name=?\n",
    "    \"\"\",(name,))\n",
    "    con.commit()\n",
    "    row=cursorobj.fetchall()\n",
    "    return row\n",
    "def get_same_address(con,name):\n",
    "    cursorobj.execute(\"\"\"SELECT DISTINCT address FROM classmates\n",
    "    WHERE name=?\n",
    "    \"\"\",(name,))\n",
    "    row=cursorobj.fetchall()\n",
    "    return row"
   ]
  },
  {
   "cell_type": "code",
   "execution_count": 66,
   "metadata": {},
   "outputs": [],
   "source": [
    "c1=[1,'usama',19,'03312357677','karachi','1999','cricket']\n",
    "c2=[2,'imran',19,'03212091450','karachi','1999','cricket']\n",
    "c3=[3,'wasi',20,'03324587691','islamabad','1998','cricket']\n",
    "c4=[4,'basit',22,'03451243431','lahore','1996','swimming']\n",
    "c5=[5,'bilal',21,'03080091450','multan','1997','football']\n",
    "c6=[6,'umar',18,'03411457272','hedrabad','2000','football']\n",
    "c7=[7,'ali',20,'03247923479','karachi','1998','not playing']"
   ]
  },
  {
   "cell_type": "code",
   "execution_count": 67,
   "metadata": {},
   "outputs": [],
   "source": [
    "insert_classmate(con,c1)\n",
    "insert_classmate(con,c2)\n",
    "insert_classmate(con,c3)\n",
    "insert_classmate(con,c4)\n",
    "insert_classmate(con,c5)\n",
    "insert_classmate(con,c6)\n",
    "insert_classmate(con,c7)"
   ]
  },
  {
   "cell_type": "code",
   "execution_count": 68,
   "metadata": {},
   "outputs": [],
   "source": [
    "update_classmate(con,6,'03352456879')"
   ]
  },
  {
   "cell_type": "code",
   "execution_count": 69,
   "metadata": {},
   "outputs": [],
   "source": [
    "delete_classmate(con,4)"
   ]
  },
  {
   "cell_type": "code",
   "execution_count": 70,
   "metadata": {},
   "outputs": [
    {
     "data": {
      "text/plain": [
       "[(1, 'usama', 19, '03312357677', 'karachi', '1999', 'cricket'),\n",
       " (2, 'imran', 19, '03212091450', 'karachi', '1999', 'cricket'),\n",
       " (3, 'wasi', 20, '03324587691', 'islamabad', '1998', 'cricket'),\n",
       " (5, 'bilal', 21, '03080091450', 'multan', '1997', 'football'),\n",
       " (6, 'umar', 18, '03352456879', 'hedrabad', '2000', 'football'),\n",
       " (7, 'ali', 20, '03247923479', 'karachi', '1998', 'not playing')]"
      ]
     },
     "execution_count": 70,
     "metadata": {},
     "output_type": "execute_result"
    }
   ],
   "source": [
    "get_all_classmate(con)"
   ]
  },
  {
   "cell_type": "code",
   "execution_count": 74,
   "metadata": {},
   "outputs": [
    {
     "data": {
      "text/plain": [
       "[('karachi',)]"
      ]
     },
     "execution_count": 74,
     "metadata": {},
     "output_type": "execute_result"
    }
   ],
   "source": [
    "get_same_address(con,'usama')"
   ]
  },
  {
   "cell_type": "code",
   "execution_count": 72,
   "metadata": {},
   "outputs": [
    {
     "data": {
      "text/plain": [
       "[('cricket',), ('football',), ('not playing',)]"
      ]
     },
     "execution_count": 72,
     "metadata": {},
     "output_type": "execute_result"
    }
   ],
   "source": [
    "get_same_hobbies(con)"
   ]
  },
  {
   "cell_type": "code",
   "execution_count": 73,
   "metadata": {},
   "outputs": [
    {
     "data": {
      "text/plain": [
       "[(19,)]"
      ]
     },
     "execution_count": 73,
     "metadata": {},
     "output_type": "execute_result"
    }
   ],
   "source": [
    "get_same_age(con,\"usama\")"
   ]
  },
  {
   "cell_type": "code",
   "execution_count": 77,
   "metadata": {},
   "outputs": [
    {
     "data": {
      "text/plain": [
       "[('1999',), ('1998',), ('1997',), ('2000',)]"
      ]
     },
     "execution_count": 77,
     "metadata": {},
     "output_type": "execute_result"
    }
   ],
   "source": [
    "get_samemonth(con)"
   ]
  },
  {
   "cell_type": "code",
   "execution_count": 78,
   "metadata": {},
   "outputs": [],
   "source": []
  },
  {
   "cell_type": "code",
   "execution_count": 86,
   "metadata": {},
   "outputs": [
    {
     "data": {
      "text/plain": [
       "<sqlite3.Cursor at 0x7f93c371e0a0>"
      ]
     },
     "execution_count": 86,
     "metadata": {},
     "output_type": "execute_result"
    }
   ],
   "source": [
    "# Home task3\n",
    "import sqlite3\n",
    "con=sqlite3.connect(\"book_info.db\")\n",
    "cobj=con.cursor()\n",
    "cobj.execute(\"\"\"CREATE TABLE books \n",
    "        (book_id integer PRIMARY KEY,book_title text,book_author text,publisher text,year_of_publish text,\n",
    "        price interger,pages integer,format text)\n",
    "\"\"\")"
   ]
  },
  {
   "cell_type": "code",
   "execution_count": 114,
   "metadata": {},
   "outputs": [],
   "source": [
    "def insert_book(con,entry):\n",
    "    cobj.execute(\"\"\"INSERT INTO books(book_id,book_title,book_author,publisher,\n",
    "    year_of_publish,price,pages,format) VALUES(?,?,?,?,?,?,?,?)\n",
    "    \"\"\",entry)\n",
    "    con.commit()\n",
    "def update_book(con,book_id,price):\n",
    "    cobj.execute(\"UPDATE books SET price=? WHERE book_id=? \",(price,book_id))\n",
    "    con.commit()\n",
    "def delete_book(con,book_id):\n",
    "    cobj.execute(\"\"\"DELETE FROM books WHERE book_id=?\n",
    "    \"\"\",(book_id,))\n",
    "    con.commit()\n",
    "def getall_books(con):\n",
    "    cobj.execute(\"\"\"\n",
    "    SELECt *FROM books\n",
    "    \"\"\")\n",
    "    con.commit()\n",
    "    allbooks=cobj.fetchall()\n",
    "    return allbooks\n",
    "def getone_books(con,book_id):\n",
    "    cobj.execute(\"\"\"\n",
    "    SELECT *FROM books WHERE book_id=?\n",
    "    \"\"\",(book_id,))\n",
    "    con.commit()\n",
    "    onebook=cobj.fetchone()\n",
    "    return onebook"
   ]
  },
  {
   "cell_type": "code",
   "execution_count": 88,
   "metadata": {},
   "outputs": [],
   "source": [
    "b1=[1,'introduction to python','chrollet','xyz','1990',2000,200,\"softcopy\"]\n",
    "b2=[2,'learn data science','chrollet','xyz','2008',5000,250,\"softcopy\"]\n",
    "b3=[3,'data visualization using pandas and matplotlib','chrollet','xyz','2010',2192,500,\"softcopy\"]\n"
   ]
  },
  {
   "cell_type": "code",
   "execution_count": 119,
   "metadata": {},
   "outputs": [],
   "source": [
    "insert_book(con,b1)\n",
    "insert_book(con,b2)\n",
    "insert_book(con,b3)"
   ]
  },
  {
   "cell_type": "code",
   "execution_count": 121,
   "metadata": {},
   "outputs": [],
   "source": [
    "update_book(con,2,5999)"
   ]
  },
  {
   "cell_type": "code",
   "execution_count": 120,
   "metadata": {},
   "outputs": [],
   "source": [
    "delete_book(con,3)"
   ]
  },
  {
   "cell_type": "code",
   "execution_count": 123,
   "metadata": {},
   "outputs": [
    {
     "data": {
      "text/plain": [
       "(2, 'learn data science', 'chrollet', 'xyz', '2008', 5999, 250, 'softcopy')"
      ]
     },
     "execution_count": 123,
     "metadata": {},
     "output_type": "execute_result"
    }
   ],
   "source": [
    "getone_books(con,2)"
   ]
  },
  {
   "cell_type": "code",
   "execution_count": 122,
   "metadata": {},
   "outputs": [
    {
     "data": {
      "text/plain": [
       "[(1,\n",
       "  'introduction to python',\n",
       "  'chrollet',\n",
       "  'xyz',\n",
       "  '1990',\n",
       "  2000,\n",
       "  200,\n",
       "  'softcopy'),\n",
       " (2, 'learn data science', 'chrollet', 'xyz', '2008', 5999, 250, 'softcopy')]"
      ]
     },
     "execution_count": 122,
     "metadata": {},
     "output_type": "execute_result"
    }
   ],
   "source": [
    "getall_books(con)"
   ]
  },
  {
   "cell_type": "code",
   "execution_count": null,
   "metadata": {},
   "outputs": [],
   "source": []
  }
 ],
 "metadata": {
  "kernelspec": {
   "display_name": "Python 3",
   "language": "python",
   "name": "python3"
  },
  "language_info": {
   "codemirror_mode": {
    "name": "ipython",
    "version": 3
   },
   "file_extension": ".py",
   "mimetype": "text/x-python",
   "name": "python",
   "nbconvert_exporter": "python",
   "pygments_lexer": "ipython3",
   "version": "3.7.4"
  }
 },
 "nbformat": 4,
 "nbformat_minor": 2
}
